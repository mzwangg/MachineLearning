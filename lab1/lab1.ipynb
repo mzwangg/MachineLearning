{
 "cells": [
  {
   "cell_type": "markdown",
   "metadata": {},
   "source": [
    "# 机器学习Lab1: 手写体识别\n",
    "    - 姓名：王茂增\n",
    "    - 学号：2113972\n",
    "    - 代码：https://github.com/mzwangg/MachineLearning"
   ]
  },
  {
   "cell_type": "markdown",
   "metadata": {},
   "source": [
    "## 实验要求\n",
    "题目：基于KNN 的手写数字识别 实验条件：给定semeion手写数字数据集，给定kNN分类算法 实验要求：\n",
    "\n",
    "1. 基本要求：编程实现kNN算法,要求使用留一法,求得在给出不同k值（1,3,5）情况下,kNN算法对⼿写数字的识别精度.\t\n",
    "\n",
    "2. 中级要求：与机器学习包中的kNN分类结果进行对比\n",
    "\n",
    "3. 提⾼要求：采用旋转等手段对原始数据进行处理，扩增数据量，采用CNN或其他深度学习方法实现手写体识别\n",
    "\n"
   ]
  },
  {
   "cell_type": "markdown",
   "metadata": {},
   "source": [
    "## 导入需要的包"
   ]
  },
  {
   "cell_type": "code",
   "execution_count": 5,
   "metadata": {},
   "outputs": [],
   "source": [
    "# 导入库\n",
    "import numpy as np\n",
    "import warnings\n",
    "import matplotlib.pyplot as plt"
   ]
  },
  {
   "cell_type": "markdown",
   "metadata": {},
   "source": [
    "1. 忽略警告信息，使其不显示在控制台上。\n",
    "2. 设置Matplotlib的字体为宋体（SimHei），以显示中文字符。\n",
    "3. 设置Matplotlib不显示负号为Unicode字符，以确保正确显示负号。"
   ]
  },
  {
   "cell_type": "code",
   "execution_count": 6,
   "metadata": {},
   "outputs": [],
   "source": [
    "warnings.filterwarnings(\"ignore\") # 不显示warning\n",
    "plt.rcParams['font.sans-serif'] = ['SimHei'] # 显示中文\n",
    "plt.rcParams['axes.unicode_minus'] = False # 显示负号"
   ]
  },
  {
   "cell_type": "markdown",
   "metadata": {},
   "source": [
    "## 导入数据\n",
    "\n",
    "提取特征和标签，并把one-hot形式的标签转为0-9类别"
   ]
  },
  {
   "cell_type": "code",
   "execution_count": 7,
   "metadata": {},
   "outputs": [],
   "source": [
    "# 读取数据，并得到特征和标签\n",
    "data = np.loadtxt('semeion.data')  # 读取数据\n",
    "features = data[:, :256]  # 提取特征\n",
    "labels = np.argmax(data[:, 256:], axis=1).reshape((-1, 1))  # 提取标签，并将one-hot编码转为0-9类别\n",
    "\n",
    "k_values = [i for i in range(1,31)]  # 不同的K值\n",
    "num_samples = labels.shape[0] # 样本数"
   ]
  },
  {
   "cell_type": "markdown",
   "metadata": {},
   "source": [
    "## 基本要求\n",
    "\n",
    "编程实现kNN算法,要求使用留一法,求得在给出不同k值（1,3,5）情况下,kNN算法对⼿写数字的识别精度.\t"
   ]
  },
  {
   "cell_type": "markdown",
   "metadata": {},
   "source": [
    "### 手动实现KNN分类器\n",
    "\n",
    "1. train_data: 训练数据集\n",
    "2. train_labels: 训练数据对应的标签\n",
    "3. test_data: 待分类的测试数据集\n",
    "4. k: KNN中的近邻数"
   ]
  },
  {
   "cell_type": "code",
   "execution_count": 15,
   "metadata": {},
   "outputs": [],
   "source": [
    "\n",
    "def my_knn(train_data, train_labels, test_data, k):\n",
    "    predictions = [] # 存储预测结果\n",
    "\n",
    "    # 对每一条test数据运行knn算法\n",
    "    for i in range(test_data.shape[0]):\n",
    "        distances = np.sqrt(np.sum((train_data - test_data[i])**2, axis=1)) # 计算到每个train数据间的欧式距离\n",
    "        nearest_neighbors = np.argsort(distances)[:k] # 排序，选出最近的k个数据\n",
    "        neighbor_labels = train_labels[nearest_neighbors] # 得到对应的最近的k个标签\n",
    "        unique_labels, counts = np.unique(neighbor_labels, return_counts=True) # 得到每个标签的数目\n",
    "        predicted_label = unique_labels[np.argmax(counts)] # 选出数目最大的标签\n",
    "        predictions.append(predicted_label) # 将该test数据预测为该标签，并将预测结果保存在predictions中\n",
    "    \n",
    "    # 将预测结果转为n行1列的ndarray并返回\n",
    "    return np.array(predictions).reshape((-1, 1))"
   ]
  },
  {
   "cell_type": "markdown",
   "metadata": {},
   "source": [
    "### k折交叉验证\n",
    "\n",
    "1. features: 特征数据集\n",
    "2. labels: 标签数据集\n",
    "3. k: 折数（K值）\n",
    "4. k_values: 不同K值的列表\n",
    "5. func: 使用的分类函数（例如KNN分类器）"
   ]
  },
  {
   "cell_type": "code",
   "execution_count": 16,
   "metadata": {},
   "outputs": [],
   "source": [
    "def k_fold_cross_validation(features, labels, k, k_values, func):\n",
    "    # 打乱数据\n",
    "    num_samples = labels.shape[0]  # 样本数\n",
    "    random_indices = np.random.permutation(num_samples) # 生成随机数\n",
    "    shuffled_features = features[random_indices] # 打乱features\n",
    "    shuffled_labels = labels[random_indices] # 打乱labels\n",
    "\n",
    "    # 初始化\n",
    "    fold_size = num_samples // k\n",
    "    accuracies = []\n",
    "\n",
    "    # 对不同的k值进行测试\n",
    "    for k_val in k_values:\n",
    "        fold_accuracies = []\n",
    "\n",
    "        # 进行k折交叉验证\n",
    "        for fold_start in range(0, num_samples, fold_size):\n",
    "            fold_end = fold_start + fold_size # 计算当前选取测试集的末尾位置\n",
    "\n",
    "            # 划分训练集、测试集\n",
    "            validation_features = shuffled_features[fold_start:fold_end]\n",
    "            validation_labels = shuffled_labels[fold_start:fold_end]\n",
    "            train_data = np.vstack((shuffled_features[:fold_start],\n",
    "                                    shuffled_features[fold_end:]))\n",
    "            train_labels = np.vstack((shuffled_labels[:fold_start],\n",
    "                                      shuffled_labels[fold_end:]))\n",
    "\n",
    "            # 进行预测\n",
    "            predictions = func(train_data, train_labels, validation_features, k_val)\n",
    "\n",
    "            # 计算准确率\n",
    "            correct_predictions = np.sum(predictions == validation_labels)\n",
    "            accuracy = correct_predictions / fold_size\n",
    "            fold_accuracies.append(accuracy)\n",
    "\n",
    "        average_accuracy = np.mean(fold_accuracies)\n",
    "        accuracies.append(average_accuracy)\n",
    "\n",
    "    return accuracies\n"
   ]
  },
  {
   "cell_type": "markdown",
   "metadata": {},
   "source": [
    "### 基本要求实验"
   ]
  },
  {
   "cell_type": "code",
   "execution_count": 17,
   "metadata": {},
   "outputs": [
    {
     "name": "stdout",
     "output_type": "stream",
     "text": [
      "K=1, my_accuracies: 0.9190207156308852\n",
      "K=2, my_accuracies: 0.8807281858129316\n",
      "K=3, my_accuracies: 0.9058380414312618\n",
      "K=4, my_accuracies: 0.9052102950408035\n",
      "K=5, my_accuracies: 0.9058380414312618\n",
      "K=6, my_accuracies: 0.9083490269930948\n",
      "K=7, my_accuracies: 0.9133709981167608\n",
      "K=8, my_accuracies: 0.911487758945386\n",
      "K=9, my_accuracies: 0.9096045197740112\n",
      "K=10, my_accuracies: 0.9070935342121783\n",
      "K=11, my_accuracies: 0.9102322661644695\n",
      "K=12, my_accuracies: 0.9077212806026366\n",
      "K=13, my_accuracies: 0.90646578782172\n",
      "K=14, my_accuracies: 0.9052102950408035\n",
      "K=15, my_accuracies: 0.9033270558694287\n",
      "K=16, my_accuracies: 0.8995605775266792\n",
      "K=17, my_accuracies: 0.8945386064030132\n",
      "K=18, my_accuracies: 0.8951663527934715\n",
      "K=19, my_accuracies: 0.8926553672316384\n",
      "K=20, my_accuracies: 0.8939108600125549\n",
      "K=21, my_accuracies: 0.8939108600125549\n",
      "K=22, my_accuracies: 0.8951663527934715\n",
      "K=23, my_accuracies: 0.8920276208411801\n",
      "K=24, my_accuracies: 0.8913998744507219\n",
      "K=25, my_accuracies: 0.8901443816698054\n",
      "K=26, my_accuracies: 0.8920276208411801\n",
      "K=27, my_accuracies: 0.8901443816698054\n",
      "K=28, my_accuracies: 0.8870056497175142\n",
      "K=29, my_accuracies: 0.8838669177652229\n",
      "K=30, my_accuracies: 0.8838669177652229\n"
     ]
    }
   ],
   "source": [
    "# 使用留一法进行预测\n",
    "my_accuracies = k_fold_cross_validation(features, labels, num_samples, k_values, my_knn)\n",
    "\n",
    "# 打印结果\n",
    "for i, k in enumerate(k_values):\n",
    "    print(f\"K={k}, my_accuracies: {my_accuracies[i]}\")"
   ]
  },
  {
   "cell_type": "markdown",
   "metadata": {},
   "source": [
    "## 中级要求\n",
    "\n",
    "与机器学习包中的kNN分类结果进行对比"
   ]
  },
  {
   "cell_type": "markdown",
   "metadata": {},
   "source": [
    "### 调用knn分类器\n",
    "\n",
    "利用sklearn中的knn分类器实现手写体预测"
   ]
  },
  {
   "cell_type": "code",
   "execution_count": 18,
   "metadata": {},
   "outputs": [],
   "source": [
    "# 导入sklearn中的knn分类器\n",
    "from sklearn.neighbors import KNeighborsClassifier\n",
    "\n",
    "def sklearn_knn(train_data, train_labels, test_data, k):\n",
    "    knn_classifier = KNeighborsClassifier(n_neighbors=k) # 创建KNN分类器\n",
    "    knn_classifier.fit(train_data, train_labels) # 在训练集上训练KNN分类器\n",
    "    predictions = knn_classifier.predict(test_data) # 在测试集上进行预测\n",
    "\n",
    "    # 将预测结果转为n行1列的ndarray并返回\n",
    "    return predictions.reshape((-1, 1)) "
   ]
  },
  {
   "cell_type": "markdown",
   "metadata": {},
   "source": [
    "### 中级要求实验"
   ]
  },
  {
   "cell_type": "code",
   "execution_count": 19,
   "metadata": {},
   "outputs": [
    {
     "name": "stdout",
     "output_type": "stream",
     "text": [
      "K=1, sklearn_accuracies: 0.9177652228499686\n",
      "K=2, sklearn_accuracies: 0.8769617074701821\n",
      "K=3, sklearn_accuracies: 0.903954802259887\n",
      "K=4, sklearn_accuracies: 0.9052102950408035\n",
      "K=5, sklearn_accuracies: 0.9052102950408035\n",
      "K=6, sklearn_accuracies: 0.9070935342121783\n",
      "K=7, sklearn_accuracies: 0.9133709981167608\n",
      "K=8, sklearn_accuracies: 0.9077212806026366\n",
      "K=9, sklearn_accuracies: 0.911487758945386\n",
      "K=10, sklearn_accuracies: 0.9077212806026366\n",
      "K=11, sklearn_accuracies: 0.9070935342121783\n",
      "K=12, sklearn_accuracies: 0.9077212806026366\n",
      "K=13, sklearn_accuracies: 0.9070935342121783\n",
      "K=14, sklearn_accuracies: 0.9033270558694287\n",
      "K=15, sklearn_accuracies: 0.8970495919648462\n",
      "K=16, sklearn_accuracies: 0.8976773383553045\n",
      "K=17, sklearn_accuracies: 0.8951663527934715\n",
      "K=18, sklearn_accuracies: 0.8995605775266792\n",
      "K=19, sklearn_accuracies: 0.8913998744507219\n",
      "K=20, sklearn_accuracies: 0.8939108600125549\n",
      "K=21, sklearn_accuracies: 0.8939108600125549\n",
      "K=22, sklearn_accuracies: 0.8970495919648462\n",
      "K=23, sklearn_accuracies: 0.8926553672316384\n",
      "K=24, sklearn_accuracies: 0.8939108600125549\n",
      "K=25, sklearn_accuracies: 0.8932831136220967\n",
      "K=26, sklearn_accuracies: 0.8882611424984307\n",
      "K=27, sklearn_accuracies: 0.8870056497175142\n",
      "K=28, sklearn_accuracies: 0.8870056497175142\n",
      "K=29, sklearn_accuracies: 0.8844946641556811\n",
      "K=30, sklearn_accuracies: 0.8813559322033898\n"
     ]
    }
   ],
   "source": [
    "# 使用留一法进行预测\n",
    "sklearn_accuracies = k_fold_cross_validation(features, labels, num_samples, k_values, sklearn_knn)\n",
    "\n",
    "# 打印结果\n",
    "for i, k in enumerate(k_values):\n",
    "    print(f\"K={k}, sklearn_accuracies: {sklearn_accuracies[i]}\")"
   ]
  },
  {
   "cell_type": "markdown",
   "metadata": {},
   "source": [
    "### 结果比较"
   ]
  },
  {
   "cell_type": "code",
   "execution_count": 20,
   "metadata": {},
   "outputs": [
    {
     "data": {
      "image/png": "[encoded data removed]",
      "text/plain": [
       "<Figure size 640x480 with 1 Axes>"
      ]
     },
     "metadata": {},
     "output_type": "display_data"
    }
   ],
   "source": [
    "# 在此可视化结果并与机器学习库的结果进行对比\n",
    "plt.plot(k_values, my_accuracies, label=\"my_knn\")\n",
    "plt.plot(k_values, sklearn_accuracies, label=\"sklearn_knn\")\n",
    "plt.title('KNN 算法分类结果比较')\n",
    "plt.xlabel('K 值')\n",
    "plt.ylabel('平均正确率')\n",
    "plt.ylim(0.8,1) # 将y值限定在0.8--1，以较好地观察结果\n",
    "plt.legend()\n",
    "plt.grid(True)\n",
    "plt.show()"
   ]
  },
  {
   "cell_type": "markdown",
   "metadata": {},
   "source": [
    "由上述结果图可知，本人实现的knn算法与sklearn中的knn算法预测准确率基本一致甚至略高，证明了本人实现的knn算法的正确性。\n",
    "\n",
    "另外，本人实现的knn算法运行时间为2min 31.2s，而sklearn中的knn算法运行时间为28min 21.8s，要远慢于本人实现版本。\n",
    "\n",
    "此外还可以看出，当k=1时具有最佳的预测准确性。"
   ]
  },
  {
   "cell_type": "markdown",
   "metadata": {},
   "source": [
    "## 提⾼要求\n",
    "\n",
    "采用旋转等手段对原始数据进行处理，扩增数据量，采用CNN或其他深度学习方法实现手写体识别"
   ]
  },
  {
   "cell_type": "markdown",
   "metadata": {},
   "source": [
    "### 数据预处理\n",
    "\n",
    "使用旋转、平移、缩放等手段进行数据增强"
   ]
  },
  {
   "cell_type": "code",
   "execution_count": 11,
   "metadata": {},
   "outputs": [],
   "source": [
    "import random\n",
    "def rotate_image(image, rotate_range):\n",
    "    size = image.shape[0] # 得到图像大小\n",
    "    random_float = random.uniform(-rotate_range, rotate_range) # 随机旋转某个角度\n",
    "    angle_rad = np.deg2rad(random_float) # 将角度转换为弧度\n",
    "    rotated_image = np.zeros((size, size)) # 创建新的16x16图像\n",
    "    center = (size - 1) / 2\n",
    "    # 执行图像旋转\n",
    "    for x in range(size):\n",
    "        for y in range(size):\n",
    "            # 计算旋转前的坐标\n",
    "            x_original = (x - center) * np.cos(angle_rad) - (y - center) * np.sin(angle_rad) + center\n",
    "            y_original = (x - center) * np.sin(angle_rad) + (y - center) * np.cos(angle_rad) + center\n",
    "            # 双线性插值\n",
    "            if 0 <= x_original < size - 1 and 0 <= y_original < size - 1:\n",
    "                x1, y1 = int(np.floor(x_original)), int(np.floor(y_original))\n",
    "                x2, y2 = x1 + 1, y1 + 1\n",
    "                dx, dy = x_original - x1, y_original - y1\n",
    "                rotated_image[x, y] = (1 - dx) * (1 - dy) * image[x1, y1] + dx * (1 - dy) * image[x1, y2] + \\\n",
    "                                      (1 - dx) * dy * image[x2, y1] + dx * dy * image[x2, y2]\n",
    "    return np.where(rotated_image >= 0.5, 1, 0)\n",
    "\n",
    "# 图像平移函数\n",
    "def translate_image(image, translate_range):\n",
    "    size = image.shape[0]  # 得到图像大小\n",
    "    shift_x = random.randint(-translate_range, translate_range)\n",
    "    shift_y = random.randint(-translate_range, translate_range)\n",
    "    # 创建新的16x16图像\n",
    "    translated_image = np.zeros((size, size))\n",
    "    # 执行图像平移\n",
    "    for x in range(size):\n",
    "        for y in range(size):\n",
    "            x_new = x + shift_x\n",
    "            y_new = y + shift_y\n",
    "            # 边界检查\n",
    "            if 0 <= x_new < size and 0 <= y_new < size:\n",
    "                translated_image[x_new, y_new] = image[x, y]\n",
    "\n",
    "    return translated_image\n",
    "\n",
    "# 图像缩放函数\n",
    "def scale_image(image, scale_range):\n",
    "    size = image.shape[0]  # 得到图像大小\n",
    "    # 创建新的16x16图像\n",
    "    scaled_image = np.zeros((size, size))\n",
    "    random_scale = random.uniform(1-scale_range, 1+scale_range)  # 随机旋转某个角度\n",
    "    # 执行图像缩放\n",
    "    for x in range(size):\n",
    "        for y in range(size):\n",
    "            # 计算缩放前的坐标\n",
    "            x_original = x / random_scale\n",
    "            y_original = y / random_scale\n",
    "\n",
    "            # 双线性插值\n",
    "            if 0 <= x_original < size - 1 and 0 <= y_original < size - 1:\n",
    "                x1, y1 = int(np.floor(x_original)), int(np.floor(y_original))\n",
    "                x2, y2 = x1 + 1, y1 + 1\n",
    "                dx, dy = x_original - x1, y_original - y1\n",
    "                scaled_image[x, y] = (1 - dx) * (1 - dy) * image[x1, y1] + dx * (1 - dy) * image[x1, y2] + \\\n",
    "                                      (1 - dx) * dy * image[x2, y1] + dx * dy * image[x2, y2]\n",
    "    return np.where(scaled_image >= 0.5, 1, 0)"
   ]
  },
  {
   "cell_type": "markdown",
   "metadata": {},
   "source": [
    "改变数据格式"
   ]
  },
  {
   "cell_type": "code",
   "execution_count": 9,
   "metadata": {},
   "outputs": [],
   "source": [
    "features = features.reshape(-1,1,16,16)  # 提取特征，并reshape成[N, C, H, W]\n",
    "labels = labels.flatten()  # 提取标签，并将one-hot编码转为0-9类别"
   ]
  },
  {
   "cell_type": "markdown",
   "metadata": {},
   "source": [
    "验证数据增强的功能"
   ]
  },
  {
   "cell_type": "code",
   "execution_count": 17,
   "metadata": {},
   "outputs": [
    {
     "data": {
      "image/png": "[encoded data removed]",
      "text/plain": [
       "<Figure size 640x480 with 4 Axes>"
      ]
     },
     "metadata": {},
     "output_type": "display_data"
    }
   ],
   "source": [
    "# 验证图像增强的功能\n",
    "image=features[0].reshape((16,16)) # 示例图像\n",
    "rotated_image = rotate_image(image, 10) # 旋转图像\n",
    "translated_image = translate_image(image, 2) # 平移图像\n",
    "scaled_image = scale_image(image, 0.1) # 缩放图像\n",
    "# 显示原始图像\n",
    "plt.subplot(141)\n",
    "plt.imshow(image, cmap='gray')\n",
    "plt.title('原始图像')\n",
    "# 显示旋转图像\n",
    "plt.subplot(142)\n",
    "plt.imshow(rotated_image, cmap='gray')\n",
    "plt.title('旋转图像')\n",
    "# 显示平移图像\n",
    "plt.subplot(143)\n",
    "plt.imshow(translated_image, cmap='gray')\n",
    "plt.title('平移图像')\n",
    "# 显示缩放图像\n",
    "plt.subplot(144)\n",
    "plt.imshow(scaled_image, cmap='gray')\n",
    "plt.title('缩放图像')\n",
    "# 显示图像\n",
    "plt.show()"
   ]
  },
  {
   "cell_type": "markdown",
   "metadata": {},
   "source": [
    "对原始数据进行数据增强，通过不断随机选取原始图像并随机修改实现"
   ]
  },
  {
   "cell_type": "code",
   "execution_count": 18,
   "metadata": {},
   "outputs": [],
   "source": [
    "# 数据增强\n",
    "def data_enhance(features, labels, rate, args):\n",
    "    n = features.shape[0]\n",
    "    func_list = [rotate_image, translate_image, scale_image]\n",
    "\n",
    "    for i in range(3):\n",
    "        for _ in range(int(n * rate[i])):\n",
    "            random_index = np.random.randint(0, n)\n",
    "            # 获取随机抽取的图像数据\n",
    "            random_feature = features[random_index, 0]\n",
    "            # 使用 func() 处理数据\n",
    "            processed_feature = func_list[i](random_feature, args[i])\n",
    "            # 将处理后的数据添加到新数据中\n",
    "            features = np.vstack((features, processed_feature.reshape(1, 1, 16, 16)))\n",
    "            labels = np.append(labels, labels[random_index])\n",
    "\n",
    "    return features, labels"
   ]
  },
  {
   "cell_type": "markdown",
   "metadata": {},
   "source": [
    "执行数据增强"
   ]
  },
  {
   "cell_type": "code",
   "execution_count": 19,
   "metadata": {},
   "outputs": [
    {
     "name": "stdout",
     "output_type": "stream",
     "text": [
      "(6372, 1, 16, 16)\n"
     ]
    }
   ],
   "source": [
    "features, labels = data_enhance(features, labels, [1, 1, 1], [5, 2, 0.1])\n",
    "print(features.shape)"
   ]
  },
  {
   "cell_type": "markdown",
   "metadata": {},
   "source": [
    "### 搭建CNN网络"
   ]
  },
  {
   "cell_type": "markdown",
   "metadata": {},
   "source": [
    "导入深度学习库"
   ]
  },
  {
   "cell_type": "code",
   "execution_count": 50,
   "metadata": {},
   "outputs": [],
   "source": [
    "import torch\n",
    "import torch.nn as nn\n",
    "import torch.optim as optim\n",
    "from torch.utils.data import DataLoader, TensorDataset, random_split\n",
    "import torch.optim.lr_scheduler as lr_scheduler\n",
    "from tqdm import tqdm"
   ]
  },
  {
   "cell_type": "markdown",
   "metadata": {},
   "source": [
    "定义超参数"
   ]
  },
  {
   "cell_type": "code",
   "execution_count": 51,
   "metadata": {},
   "outputs": [],
   "source": [
    "EPOCH = 70\n",
    "BATCH_SIZE = 512\n",
    "TRAIN_RATIO = 0.7\n",
    "VAL_RATIO = 0.15\n",
    "TEST_RATIO = 0.15\n",
    "LR = 0.001"
   ]
  },
  {
   "cell_type": "markdown",
   "metadata": {},
   "source": [
    "定义 CNN 模型"
   ]
  },
  {
   "cell_type": "code",
   "execution_count": 52,
   "metadata": {},
   "outputs": [],
   "source": [
    "# 定义 CNN 模型\n",
    "class CNNModel(nn.Module):\n",
    "    def __init__(self, num_classes):\n",
    "        super(CNNModel, self).__init__()\n",
    "        self.num_classes = num_classes\n",
    "        self.conv1 = nn.Conv2d(1, 32, kernel_size=3, padding=1)\n",
    "        self.relu = nn.ReLU()\n",
    "        self.pool = nn.MaxPool2d(kernel_size=2, stride=2)\n",
    "        self.fc1 = nn.Linear(32 * 8 * 8, 128)\n",
    "        self.fc2 = nn.Linear(128, self.num_classes)  # 假设 num_classes 是类别的数量\n",
    "\n",
    "    def forward(self, x):\n",
    "        x = self.conv1(x)\n",
    "        x = self.relu(x)\n",
    "        x = self.pool(x)\n",
    "        x = x.view(x.size(0), -1)  # 展平特征\n",
    "        x = self.fc1(x)\n",
    "        x = self.relu(x)\n",
    "        x = self.fc2(x)\n",
    "        return x"
   ]
  },
  {
   "cell_type": "markdown",
   "metadata": {},
   "source": [
    "划分数据集"
   ]
  },
  {
   "cell_type": "code",
   "execution_count": 53,
   "metadata": {},
   "outputs": [],
   "source": [
    "# 划分数据集（训练集、验证集、测试集）\n",
    "total_samples = len(features)\n",
    "\n",
    "train_size = int(total_samples * TRAIN_RATIO)\n",
    "val_size = int(total_samples * VAL_RATIO)\n",
    "test_size = total_samples - train_size - val_size\n",
    "\n",
    "train_dataset, val_dataset, test_dataset = random_split(\n",
    "    TensorDataset(torch.Tensor(features), torch.Tensor(labels).long()),\n",
    "    [train_size, val_size, test_size])\n",
    "\n",
    "# 定义数据加载器\n",
    "train_loader = DataLoader(train_dataset, batch_size=BATCH_SIZE, shuffle=True)\n",
    "val_loader = DataLoader(val_dataset, batch_size=BATCH_SIZE)\n",
    "test_loader = DataLoader(test_dataset, batch_size=BATCH_SIZE)"
   ]
  },
  {
   "cell_type": "markdown",
   "metadata": {},
   "source": [
    "创建模型，定义损失函数和优化器，并设置当loss两轮不下降时，将学习率变为原来的0.5倍"
   ]
  },
  {
   "cell_type": "code",
   "execution_count": 54,
   "metadata": {},
   "outputs": [],
   "source": [
    "# 创建模型实例\n",
    "model = CNNModel(10)\n",
    "\n",
    "# 定义损失函数和优化器\n",
    "criterion = nn.CrossEntropyLoss()\n",
    "optimizer = optim.Adam(model.parameters(), lr=LR)\n",
    "\n",
    "# 定义一个 ReduceLROnPlateau 学习率调度器\n",
    "lr_scheduler = lr_scheduler.ReduceLROnPlateau(optimizer, mode='min', patience=2, factor=0.5, verbose=True)"
   ]
  },
  {
   "cell_type": "markdown",
   "metadata": {},
   "source": [
    "### 训练及预测"
   ]
  },
  {
   "cell_type": "markdown",
   "metadata": {},
   "source": [
    "训练模型，并在验证集上评估模型"
   ]
  },
  {
   "cell_type": "code",
   "execution_count": 55,
   "metadata": {},
   "outputs": [
    {
     "name": "stderr",
     "output_type": "stream",
     "text": [
      "                                                         \r"
     ]
    },
    {
     "name": "stdout",
     "output_type": "stream",
     "text": [
      "Epoch 1/70, Train Loss: 1.9199, Train Accuracy: 48.63%, Validation Loss: 1.4623, Validation Accuracy: 71.10%\n"
     ]
    },
    {
     "name": "stderr",
     "output_type": "stream",
     "text": [
      "                                                         \r"
     ]
    },
    {
     "name": "stdout",
     "output_type": "stream",
     "text": [
      "Epoch 2/70, Train Loss: 1.1465, Train Accuracy: 73.79%, Validation Loss: 0.9317, Validation Accuracy: 74.87%\n"
     ]
    },
    {
     "name": "stderr",
     "output_type": "stream",
     "text": [
      "                                                         \r"
     ]
    },
    {
     "name": "stdout",
     "output_type": "stream",
     "text": [
      "Epoch 3/70, Train Loss: 0.7571, Train Accuracy: 78.09%, Validation Loss: 0.7165, Validation Accuracy: 78.32%\n"
     ]
    },
    {
     "name": "stderr",
     "output_type": "stream",
     "text": [
      "                                                         \r"
     ]
    },
    {
     "name": "stdout",
     "output_type": "stream",
     "text": [
      "Epoch 4/70, Train Loss: 0.5948, Train Accuracy: 81.52%, Validation Loss: 0.6092, Validation Accuracy: 81.26%\n"
     ]
    },
    {
     "name": "stderr",
     "output_type": "stream",
     "text": [
      "                                                         \r"
     ]
    },
    {
     "name": "stdout",
     "output_type": "stream",
     "text": [
      "Epoch 5/70, Train Loss: 0.5021, Train Accuracy: 84.73%, Validation Loss: 0.5526, Validation Accuracy: 83.14%\n"
     ]
    },
    {
     "name": "stderr",
     "output_type": "stream",
     "text": [
      "                                                         \r"
     ]
    },
    {
     "name": "stdout",
     "output_type": "stream",
     "text": [
      "Epoch 6/70, Train Loss: 0.4445, Train Accuracy: 86.93%, Validation Loss: 0.5159, Validation Accuracy: 84.82%\n"
     ]
    },
    {
     "name": "stderr",
     "output_type": "stream",
     "text": [
      "                                                         \r"
     ]
    },
    {
     "name": "stdout",
     "output_type": "stream",
     "text": [
      "Epoch 7/70, Train Loss: 0.3955, Train Accuracy: 88.57%, Validation Loss: 0.4548, Validation Accuracy: 86.60%\n"
     ]
    },
    {
     "name": "stderr",
     "output_type": "stream",
     "text": [
      "                                                         \r"
     ]
    },
    {
     "name": "stdout",
     "output_type": "stream",
     "text": [
      "Epoch 8/70, Train Loss: 0.3548, Train Accuracy: 90.07%, Validation Loss: 0.4201, Validation Accuracy: 87.43%\n"
     ]
    },
    {
     "name": "stderr",
     "output_type": "stream",
     "text": [
      "                                                         \r"
     ]
    },
    {
     "name": "stdout",
     "output_type": "stream",
     "text": [
      "Epoch 9/70, Train Loss: 0.3169, Train Accuracy: 91.14%, Validation Loss: 0.3977, Validation Accuracy: 88.27%\n"
     ]
    },
    {
     "name": "stderr",
     "output_type": "stream",
     "text": [
      "                                                          \r"
     ]
    },
    {
     "name": "stdout",
     "output_type": "stream",
     "text": [
      "Epoch 10/70, Train Loss: 0.2856, Train Accuracy: 92.09%, Validation Loss: 0.3817, Validation Accuracy: 88.27%\n"
     ]
    },
    {
     "name": "stderr",
     "output_type": "stream",
     "text": [
      "                                                          \r"
     ]
    },
    {
     "name": "stdout",
     "output_type": "stream",
     "text": [
      "Epoch 11/70, Train Loss: 0.2570, Train Accuracy: 92.87%, Validation Loss: 0.3494, Validation Accuracy: 90.05%\n"
     ]
    },
    {
     "name": "stderr",
     "output_type": "stream",
     "text": [
      "                                                          \r"
     ]
    },
    {
     "name": "stdout",
     "output_type": "stream",
     "text": [
      "Epoch 12/70, Train Loss: 0.2324, Train Accuracy: 93.52%, Validation Loss: 0.3243, Validation Accuracy: 90.47%\n"
     ]
    },
    {
     "name": "stderr",
     "output_type": "stream",
     "text": [
      "                                                          \r"
     ]
    },
    {
     "name": "stdout",
     "output_type": "stream",
     "text": [
      "Epoch 13/70, Train Loss: 0.2116, Train Accuracy: 94.13%, Validation Loss: 0.3128, Validation Accuracy: 90.58%\n"
     ]
    },
    {
     "name": "stderr",
     "output_type": "stream",
     "text": [
      "                                                          \r"
     ]
    },
    {
     "name": "stdout",
     "output_type": "stream",
     "text": [
      "Epoch 14/70, Train Loss: 0.1904, Train Accuracy: 94.93%, Validation Loss: 0.2890, Validation Accuracy: 90.68%\n"
     ]
    },
    {
     "name": "stderr",
     "output_type": "stream",
     "text": [
      "                                                          \r"
     ]
    },
    {
     "name": "stdout",
     "output_type": "stream",
     "text": [
      "Epoch 15/70, Train Loss: 0.1670, Train Accuracy: 95.43%, Validation Loss: 0.2715, Validation Accuracy: 92.15%\n"
     ]
    },
    {
     "name": "stderr",
     "output_type": "stream",
     "text": [
      "                                                          \r"
     ]
    },
    {
     "name": "stdout",
     "output_type": "stream",
     "text": [
      "Epoch 16/70, Train Loss: 0.1524, Train Accuracy: 95.99%, Validation Loss: 0.2577, Validation Accuracy: 92.25%\n"
     ]
    },
    {
     "name": "stderr",
     "output_type": "stream",
     "text": [
      "                                                          \r"
     ]
    },
    {
     "name": "stdout",
     "output_type": "stream",
     "text": [
      "Epoch 17/70, Train Loss: 0.1394, Train Accuracy: 96.43%, Validation Loss: 0.2557, Validation Accuracy: 92.46%\n"
     ]
    },
    {
     "name": "stderr",
     "output_type": "stream",
     "text": [
      "                                                          \r"
     ]
    },
    {
     "name": "stdout",
     "output_type": "stream",
     "text": [
      "Epoch 18/70, Train Loss: 0.1298, Train Accuracy: 96.46%, Validation Loss: 0.2387, Validation Accuracy: 93.19%\n"
     ]
    },
    {
     "name": "stderr",
     "output_type": "stream",
     "text": [
      "                                                          \r"
     ]
    },
    {
     "name": "stdout",
     "output_type": "stream",
     "text": [
      "Epoch 19/70, Train Loss: 0.1195, Train Accuracy: 97.00%, Validation Loss: 0.2326, Validation Accuracy: 92.88%\n"
     ]
    },
    {
     "name": "stderr",
     "output_type": "stream",
     "text": [
      "                                                          \r"
     ]
    },
    {
     "name": "stdout",
     "output_type": "stream",
     "text": [
      "Epoch 20/70, Train Loss: 0.1080, Train Accuracy: 97.47%, Validation Loss: 0.2275, Validation Accuracy: 93.40%\n"
     ]
    },
    {
     "name": "stderr",
     "output_type": "stream",
     "text": [
      "                                                          \r"
     ]
    },
    {
     "name": "stdout",
     "output_type": "stream",
     "text": [
      "Epoch 21/70, Train Loss: 0.0962, Train Accuracy: 97.67%, Validation Loss: 0.2154, Validation Accuracy: 93.93%\n"
     ]
    },
    {
     "name": "stderr",
     "output_type": "stream",
     "text": [
      "                                                          \r"
     ]
    },
    {
     "name": "stdout",
     "output_type": "stream",
     "text": [
      "Epoch 22/70, Train Loss: 0.0843, Train Accuracy: 98.09%, Validation Loss: 0.2068, Validation Accuracy: 94.14%\n"
     ]
    },
    {
     "name": "stderr",
     "output_type": "stream",
     "text": [
      "                                                          \r"
     ]
    },
    {
     "name": "stdout",
     "output_type": "stream",
     "text": [
      "Epoch 23/70, Train Loss: 0.0769, Train Accuracy: 98.34%, Validation Loss: 0.2019, Validation Accuracy: 94.35%\n"
     ]
    },
    {
     "name": "stderr",
     "output_type": "stream",
     "text": [
      "                                                          \r"
     ]
    },
    {
     "name": "stdout",
     "output_type": "stream",
     "text": [
      "Epoch 24/70, Train Loss: 0.0714, Train Accuracy: 98.70%, Validation Loss: 0.1953, Validation Accuracy: 94.55%\n"
     ]
    },
    {
     "name": "stderr",
     "output_type": "stream",
     "text": [
      "                                                          \r"
     ]
    },
    {
     "name": "stdout",
     "output_type": "stream",
     "text": [
      "Epoch 25/70, Train Loss: 0.0655, Train Accuracy: 98.97%, Validation Loss: 0.2093, Validation Accuracy: 93.82%\n"
     ]
    },
    {
     "name": "stderr",
     "output_type": "stream",
     "text": [
      "                                                          \r"
     ]
    },
    {
     "name": "stdout",
     "output_type": "stream",
     "text": [
      "Epoch 26/70, Train Loss: 0.0582, Train Accuracy: 99.22%, Validation Loss: 0.1899, Validation Accuracy: 94.45%\n"
     ]
    },
    {
     "name": "stderr",
     "output_type": "stream",
     "text": [
      "                                                          \r"
     ]
    },
    {
     "name": "stdout",
     "output_type": "stream",
     "text": [
      "Epoch 27/70, Train Loss: 0.0527, Train Accuracy: 99.33%, Validation Loss: 0.1909, Validation Accuracy: 95.08%\n"
     ]
    },
    {
     "name": "stderr",
     "output_type": "stream",
     "text": [
      "                                                          \r"
     ]
    },
    {
     "name": "stdout",
     "output_type": "stream",
     "text": [
      "Epoch 28/70, Train Loss: 0.0489, Train Accuracy: 99.39%, Validation Loss: 0.1790, Validation Accuracy: 94.97%\n"
     ]
    },
    {
     "name": "stderr",
     "output_type": "stream",
     "text": [
      "                                                          \r"
     ]
    },
    {
     "name": "stdout",
     "output_type": "stream",
     "text": [
      "Epoch 29/70, Train Loss: 0.0441, Train Accuracy: 99.51%, Validation Loss: 0.1799, Validation Accuracy: 95.18%\n"
     ]
    },
    {
     "name": "stderr",
     "output_type": "stream",
     "text": [
      "                                                          \r"
     ]
    },
    {
     "name": "stdout",
     "output_type": "stream",
     "text": [
      "Epoch 30/70, Train Loss: 0.0412, Train Accuracy: 99.66%, Validation Loss: 0.1834, Validation Accuracy: 94.97%\n"
     ]
    },
    {
     "name": "stderr",
     "output_type": "stream",
     "text": [
      "                                                          \r"
     ]
    },
    {
     "name": "stdout",
     "output_type": "stream",
     "text": [
      "Epoch 31/70, Train Loss: 0.0375, Train Accuracy: 99.71%, Validation Loss: 0.1832, Validation Accuracy: 95.39%\n"
     ]
    },
    {
     "name": "stderr",
     "output_type": "stream",
     "text": [
      "                                                          \r"
     ]
    },
    {
     "name": "stdout",
     "output_type": "stream",
     "text": [
      "Epoch 32/70, Train Loss: 0.0353, Train Accuracy: 99.69%, Validation Loss: 0.1778, Validation Accuracy: 94.97%\n"
     ]
    },
    {
     "name": "stderr",
     "output_type": "stream",
     "text": [
      "                                                          \r"
     ]
    },
    {
     "name": "stdout",
     "output_type": "stream",
     "text": [
      "Epoch 33/70, Train Loss: 0.0320, Train Accuracy: 99.80%, Validation Loss: 0.1761, Validation Accuracy: 95.18%\n"
     ]
    },
    {
     "name": "stderr",
     "output_type": "stream",
     "text": [
      "                                                          \r"
     ]
    },
    {
     "name": "stdout",
     "output_type": "stream",
     "text": [
      "Epoch 34/70, Train Loss: 0.0291, Train Accuracy: 99.78%, Validation Loss: 0.1783, Validation Accuracy: 94.87%\n"
     ]
    },
    {
     "name": "stderr",
     "output_type": "stream",
     "text": [
      "                                                          \r"
     ]
    },
    {
     "name": "stdout",
     "output_type": "stream",
     "text": [
      "Epoch 35/70, Train Loss: 0.0265, Train Accuracy: 99.91%, Validation Loss: 0.1750, Validation Accuracy: 95.39%\n"
     ]
    },
    {
     "name": "stderr",
     "output_type": "stream",
     "text": [
      "                                                          \r"
     ]
    },
    {
     "name": "stdout",
     "output_type": "stream",
     "text": [
      "Epoch 36/70, Train Loss: 0.0253, Train Accuracy: 99.91%, Validation Loss: 0.1716, Validation Accuracy: 95.08%\n"
     ]
    },
    {
     "name": "stderr",
     "output_type": "stream",
     "text": [
      "                                                          \r"
     ]
    },
    {
     "name": "stdout",
     "output_type": "stream",
     "text": [
      "Epoch 37/70, Train Loss: 0.0240, Train Accuracy: 99.87%, Validation Loss: 0.1744, Validation Accuracy: 95.08%\n"
     ]
    },
    {
     "name": "stderr",
     "output_type": "stream",
     "text": [
      "                                                          \r"
     ]
    },
    {
     "name": "stdout",
     "output_type": "stream",
     "text": [
      "Epoch 38/70, Train Loss: 0.0210, Train Accuracy: 99.96%, Validation Loss: 0.1736, Validation Accuracy: 95.60%\n"
     ]
    },
    {
     "name": "stderr",
     "output_type": "stream",
     "text": [
      "                                                          \r"
     ]
    },
    {
     "name": "stdout",
     "output_type": "stream",
     "text": [
      "Epoch 39/70, Train Loss: 0.0196, Train Accuracy: 100.00%, Validation Loss: 0.1716, Validation Accuracy: 95.39%\n"
     ]
    },
    {
     "name": "stderr",
     "output_type": "stream",
     "text": [
      "                                                          \r"
     ]
    },
    {
     "name": "stdout",
     "output_type": "stream",
     "text": [
      "Epoch 40/70, Train Loss: 0.0183, Train Accuracy: 99.98%, Validation Loss: 0.1717, Validation Accuracy: 95.29%\n"
     ]
    },
    {
     "name": "stderr",
     "output_type": "stream",
     "text": [
      "                                                          \r"
     ]
    },
    {
     "name": "stdout",
     "output_type": "stream",
     "text": [
      "Epoch 41/70, Train Loss: 0.0170, Train Accuracy: 100.00%, Validation Loss: 0.1707, Validation Accuracy: 95.50%\n"
     ]
    },
    {
     "name": "stderr",
     "output_type": "stream",
     "text": [
      "                                                          \r"
     ]
    },
    {
     "name": "stdout",
     "output_type": "stream",
     "text": [
      "Epoch 42/70, Train Loss: 0.0159, Train Accuracy: 100.00%, Validation Loss: 0.1729, Validation Accuracy: 95.60%\n"
     ]
    },
    {
     "name": "stderr",
     "output_type": "stream",
     "text": [
      "                                                          \r"
     ]
    },
    {
     "name": "stdout",
     "output_type": "stream",
     "text": [
      "Epoch 43/70, Train Loss: 0.0153, Train Accuracy: 99.98%, Validation Loss: 0.1749, Validation Accuracy: 95.39%\n"
     ]
    },
    {
     "name": "stderr",
     "output_type": "stream",
     "text": [
      "                                                          \r"
     ]
    },
    {
     "name": "stdout",
     "output_type": "stream",
     "text": [
      "Epoch 44/70, Train Loss: 0.0145, Train Accuracy: 100.00%, Validation Loss: 0.1731, Validation Accuracy: 95.39%\n"
     ]
    },
    {
     "name": "stderr",
     "output_type": "stream",
     "text": [
      "                                                          \r"
     ]
    },
    {
     "name": "stdout",
     "output_type": "stream",
     "text": [
      "Epoch 45/70, Train Loss: 0.0135, Train Accuracy: 100.00%, Validation Loss: 0.1701, Validation Accuracy: 95.60%\n"
     ]
    },
    {
     "name": "stderr",
     "output_type": "stream",
     "text": [
      "                                                          \r"
     ]
    },
    {
     "name": "stdout",
     "output_type": "stream",
     "text": [
      "Epoch 46/70, Train Loss: 0.0129, Train Accuracy: 100.00%, Validation Loss: 0.1749, Validation Accuracy: 95.29%\n"
     ]
    },
    {
     "name": "stderr",
     "output_type": "stream",
     "text": [
      "                                                          \r"
     ]
    },
    {
     "name": "stdout",
     "output_type": "stream",
     "text": [
      "Epoch 47/70, Train Loss: 0.0116, Train Accuracy: 100.00%, Validation Loss: 0.1724, Validation Accuracy: 95.50%\n"
     ]
    },
    {
     "name": "stderr",
     "output_type": "stream",
     "text": [
      "                                                          \r"
     ]
    },
    {
     "name": "stdout",
     "output_type": "stream",
     "text": [
      "Epoch 48/70, Train Loss: 0.0109, Train Accuracy: 100.00%, Validation Loss: 0.1718, Validation Accuracy: 95.39%\n"
     ]
    },
    {
     "name": "stderr",
     "output_type": "stream",
     "text": [
      "                                                          \r"
     ]
    },
    {
     "name": "stdout",
     "output_type": "stream",
     "text": [
      "Epoch 49/70, Train Loss: 0.0105, Train Accuracy: 100.00%, Validation Loss: 0.1755, Validation Accuracy: 95.18%\n"
     ]
    },
    {
     "name": "stderr",
     "output_type": "stream",
     "text": [
      "                                                          \r"
     ]
    },
    {
     "name": "stdout",
     "output_type": "stream",
     "text": [
      "Epoch 50/70, Train Loss: 0.0100, Train Accuracy: 100.00%, Validation Loss: 0.1715, Validation Accuracy: 95.81%\n"
     ]
    },
    {
     "name": "stderr",
     "output_type": "stream",
     "text": [
      "                                                          \r"
     ]
    },
    {
     "name": "stdout",
     "output_type": "stream",
     "text": [
      "Epoch 51/70, Train Loss: 0.0093, Train Accuracy: 100.00%, Validation Loss: 0.1731, Validation Accuracy: 95.29%\n"
     ]
    },
    {
     "name": "stderr",
     "output_type": "stream",
     "text": [
      "                                                          \r"
     ]
    },
    {
     "name": "stdout",
     "output_type": "stream",
     "text": [
      "Epoch 52/70, Train Loss: 0.0088, Train Accuracy: 100.00%, Validation Loss: 0.1743, Validation Accuracy: 95.39%\n"
     ]
    },
    {
     "name": "stderr",
     "output_type": "stream",
     "text": [
      "                                                          \r"
     ]
    },
    {
     "name": "stdout",
     "output_type": "stream",
     "text": [
      "Epoch 53/70, Train Loss: 0.0084, Train Accuracy: 100.00%, Validation Loss: 0.1717, Validation Accuracy: 95.39%\n"
     ]
    },
    {
     "name": "stderr",
     "output_type": "stream",
     "text": [
      "                                                          \r"
     ]
    },
    {
     "name": "stdout",
     "output_type": "stream",
     "text": [
      "Epoch 54/70, Train Loss: 0.0080, Train Accuracy: 100.00%, Validation Loss: 0.1740, Validation Accuracy: 95.50%\n"
     ]
    },
    {
     "name": "stderr",
     "output_type": "stream",
     "text": [
      "                                                          \r"
     ]
    },
    {
     "name": "stdout",
     "output_type": "stream",
     "text": [
      "Epoch 55/70, Train Loss: 0.0077, Train Accuracy: 100.00%, Validation Loss: 0.1760, Validation Accuracy: 95.29%\n"
     ]
    },
    {
     "name": "stderr",
     "output_type": "stream",
     "text": [
      "                                                          \r"
     ]
    },
    {
     "name": "stdout",
     "output_type": "stream",
     "text": [
      "Epoch 56/70, Train Loss: 0.0073, Train Accuracy: 100.00%, Validation Loss: 0.1721, Validation Accuracy: 95.60%\n"
     ]
    },
    {
     "name": "stderr",
     "output_type": "stream",
     "text": [
      "                                                          \r"
     ]
    },
    {
     "name": "stdout",
     "output_type": "stream",
     "text": [
      "Epoch 57/70, Train Loss: 0.0069, Train Accuracy: 100.00%, Validation Loss: 0.1760, Validation Accuracy: 95.39%\n"
     ]
    },
    {
     "name": "stderr",
     "output_type": "stream",
     "text": [
      "                                                          \r"
     ]
    },
    {
     "name": "stdout",
     "output_type": "stream",
     "text": [
      "Epoch 58/70, Train Loss: 0.0067, Train Accuracy: 100.00%, Validation Loss: 0.1757, Validation Accuracy: 95.39%\n"
     ]
    },
    {
     "name": "stderr",
     "output_type": "stream",
     "text": [
      "                                                          \r"
     ]
    },
    {
     "name": "stdout",
     "output_type": "stream",
     "text": [
      "Epoch 59/70, Train Loss: 0.0064, Train Accuracy: 100.00%, Validation Loss: 0.1754, Validation Accuracy: 95.50%\n"
     ]
    },
    {
     "name": "stderr",
     "output_type": "stream",
     "text": [
      "                                                          \r"
     ]
    },
    {
     "name": "stdout",
     "output_type": "stream",
     "text": [
      "Epoch 60/70, Train Loss: 0.0060, Train Accuracy: 100.00%, Validation Loss: 0.1765, Validation Accuracy: 95.29%\n"
     ]
    },
    {
     "name": "stderr",
     "output_type": "stream",
     "text": [
      "                                                          \r"
     ]
    },
    {
     "name": "stdout",
     "output_type": "stream",
     "text": [
      "Epoch 61/70, Train Loss: 0.0057, Train Accuracy: 100.00%, Validation Loss: 0.1755, Validation Accuracy: 95.50%\n"
     ]
    },
    {
     "name": "stderr",
     "output_type": "stream",
     "text": [
      "                                                          \r"
     ]
    },
    {
     "name": "stdout",
     "output_type": "stream",
     "text": [
      "Epoch 62/70, Train Loss: 0.0055, Train Accuracy: 100.00%, Validation Loss: 0.1748, Validation Accuracy: 95.50%\n"
     ]
    },
    {
     "name": "stderr",
     "output_type": "stream",
     "text": [
      "                                                          \r"
     ]
    },
    {
     "name": "stdout",
     "output_type": "stream",
     "text": [
      "Epoch 63/70, Train Loss: 0.0053, Train Accuracy: 100.00%, Validation Loss: 0.1780, Validation Accuracy: 95.50%\n"
     ]
    },
    {
     "name": "stderr",
     "output_type": "stream",
     "text": [
      "                                                          \r"
     ]
    },
    {
     "name": "stdout",
     "output_type": "stream",
     "text": [
      "Epoch 64/70, Train Loss: 0.0051, Train Accuracy: 100.00%, Validation Loss: 0.1755, Validation Accuracy: 95.50%\n"
     ]
    },
    {
     "name": "stderr",
     "output_type": "stream",
     "text": [
      "                                                          \r"
     ]
    },
    {
     "name": "stdout",
     "output_type": "stream",
     "text": [
      "Epoch 65/70, Train Loss: 0.0050, Train Accuracy: 100.00%, Validation Loss: 0.1778, Validation Accuracy: 95.50%\n"
     ]
    },
    {
     "name": "stderr",
     "output_type": "stream",
     "text": [
      "                                                          \r"
     ]
    },
    {
     "name": "stdout",
     "output_type": "stream",
     "text": [
      "Epoch 66/70, Train Loss: 0.0048, Train Accuracy: 100.00%, Validation Loss: 0.1776, Validation Accuracy: 95.71%\n"
     ]
    },
    {
     "name": "stderr",
     "output_type": "stream",
     "text": [
      "                                                          \r"
     ]
    },
    {
     "name": "stdout",
     "output_type": "stream",
     "text": [
      "Epoch 67/70, Train Loss: 0.0046, Train Accuracy: 100.00%, Validation Loss: 0.1773, Validation Accuracy: 95.60%\n"
     ]
    },
    {
     "name": "stderr",
     "output_type": "stream",
     "text": [
      "                                                          \r"
     ]
    },
    {
     "name": "stdout",
     "output_type": "stream",
     "text": [
      "Epoch 68/70, Train Loss: 0.0044, Train Accuracy: 100.00%, Validation Loss: 0.1796, Validation Accuracy: 95.60%\n"
     ]
    },
    {
     "name": "stderr",
     "output_type": "stream",
     "text": [
      "                                                          \r"
     ]
    },
    {
     "name": "stdout",
     "output_type": "stream",
     "text": [
      "Epoch 69/70, Train Loss: 0.0043, Train Accuracy: 100.00%, Validation Loss: 0.1776, Validation Accuracy: 95.39%\n"
     ]
    },
    {
     "name": "stderr",
     "output_type": "stream",
     "text": [
      "                                                          "
     ]
    },
    {
     "name": "stdout",
     "output_type": "stream",
     "text": [
      "Epoch 70/70, Train Loss: 0.0042, Train Accuracy: 100.00%, Validation Loss: 0.1799, Validation Accuracy: 95.50%\n"
     ]
    },
    {
     "name": "stderr",
     "output_type": "stream",
     "text": [
      "\r"
     ]
    }
   ],
   "source": [
    "# 训练模型，并保存历史数据\n",
    "train_loss_history = []\n",
    "val_loss_history = []\n",
    "train_acc_history = []\n",
    "val_acc_history = []\n",
    "\n",
    "for epoch in range(EPOCH):\n",
    "    model.train()\n",
    "    running_train_loss = 0.0\n",
    "    correct_train = 0\n",
    "    total_train = 0\n",
    "\n",
    "    for batch_data, batch_labels in tqdm(train_loader, desc=f'Epoch {epoch + 1}/{EPOCH}', leave=False):\n",
    "        optimizer.zero_grad()\n",
    "        outputs = model(batch_data)\n",
    "        loss = criterion(outputs, batch_labels)\n",
    "        loss.backward()\n",
    "        optimizer.step()\n",
    "\n",
    "        running_train_loss += loss.item()\n",
    "\n",
    "        _, predicted = torch.max(outputs, 1)\n",
    "        total_train += batch_labels.size(0)\n",
    "        correct_train += (predicted == batch_labels).sum().item()\n",
    "\n",
    "    # 2.对学习率进行更新    \n",
    "    lr_scheduler.step(running_train_loss)\n",
    "\n",
    "    train_loss = running_train_loss / len(train_loader)\n",
    "    train_accuracy = correct_train / total_train\n",
    "    train_loss_history.append(train_loss)\n",
    "    train_acc_history.append(train_accuracy)\n",
    "\n",
    "    # 在验证集上评估模型\n",
    "    model.eval()\n",
    "    running_val_loss = 0.0\n",
    "    correct_val = 0\n",
    "    total_val = 0\n",
    "\n",
    "    with torch.no_grad():\n",
    "        for batch_data, batch_labels in val_loader:\n",
    "            outputs = model(batch_data)\n",
    "            loss = criterion(outputs, batch_labels)\n",
    "            running_val_loss += loss.item()\n",
    "\n",
    "            _, predicted = torch.max(outputs, 1)\n",
    "            total_val += batch_labels.size(0)\n",
    "            correct_val += (predicted == batch_labels).sum().item()\n",
    "\n",
    "    val_loss = running_val_loss / len(val_loader)\n",
    "    val_accuracy = correct_val / total_val\n",
    "    val_loss_history.append(val_loss)\n",
    "    val_acc_history.append(val_accuracy)\n",
    "\n",
    "    print(f'Epoch {epoch + 1}/{EPOCH}, '\n",
    "          f'Train Loss: {train_loss:.4f}, Train Accuracy: {train_accuracy:.2%}, '\n",
    "          f'Validation Loss: {val_loss:.4f}, Validation Accuracy: {val_accuracy:.2%}')"
   ]
  },
  {
   "cell_type": "markdown",
   "metadata": {},
   "source": [
    "在测试集上测试模型"
   ]
  },
  {
   "cell_type": "code",
   "execution_count": 56,
   "metadata": {},
   "outputs": [
    {
     "name": "stdout",
     "output_type": "stream",
     "text": [
      "Test Accuracy: 95.30%\n"
     ]
    }
   ],
   "source": [
    "# 在测试集上测试模型\n",
    "model.eval()\n",
    "correct = 0\n",
    "total = 0\n",
    "with torch.no_grad():\n",
    "    for batch_data, batch_labels in test_loader:\n",
    "        outputs = model(batch_data)\n",
    "        _, predicted = torch.max(outputs, 1)\n",
    "        total += batch_labels.size(0)\n",
    "        correct += (predicted == batch_labels).sum().item()\n",
    "\n",
    "test_accuracy = correct / total\n",
    "print('Test Accuracy: {:.2f}%'.format(100 * test_accuracy))"
   ]
  },
  {
   "cell_type": "markdown",
   "metadata": {},
   "source": [
    "绘制训练曲线"
   ]
  },
  {
   "cell_type": "code",
   "execution_count": 57,
   "metadata": {},
   "outputs": [
    {
     "data": {
      "image/png": "[encoded data removed]",
      "text/plain": [
       "<Figure size 1200x400 with 2 Axes>"
      ]
     },
     "metadata": {},
     "output_type": "display_data"
    }
   ],
   "source": [
    "# 绘制训练曲线\n",
    "import matplotlib.pyplot as plt\n",
    "\n",
    "plt.figure(figsize=(12, 4))\n",
    "plt.subplot(1, 2, 1)\n",
    "plt.plot(train_loss_history, label='Train Loss')\n",
    "plt.plot(val_loss_history, label='Validation Loss')\n",
    "plt.legend()\n",
    "plt.xlabel('Epoch')\n",
    "plt.ylabel('Loss')\n",
    "plt.title('Training and Validation Loss')\n",
    "\n",
    "plt.subplot(1, 2, 2)\n",
    "plt.plot(train_acc_history, label='Train Accuracy')\n",
    "plt.plot(val_acc_history, label='Validation Accuracy')\n",
    "plt.legend()\n",
    "plt.xlabel('Epoch')\n",
    "plt.ylabel('Accuracy')\n",
    "plt.title('Training and Validation Accuracy')\n",
    "\n",
    "plt.show()"
   ]
  },
  {
   "cell_type": "markdown",
   "metadata": {},
   "source": [
    "由上述实验数据可知，CNn在训练集上能达到100%的准确率，在验证集上能达到95%的准确率，而在测试集上也能达到95%的准确率，均优于KNN算法达到的90%准确率，说明CNN在处理手写字体识别等图像识别任务方面有明显的优势。\n",
    "\n",
    "同时可以发现，验证集比训练集的准确率低了5%，说明该模型存在一定的过拟合，不过并不严重。"
   ]
  },
  {
   "cell_type": "markdown",
   "metadata": {},
   "source": [
    "## 总结"
   ]
  },
  {
   "cell_type": "markdown",
   "metadata": {},
   "source": [
    "本次实验中，我主要完成了如下任务：\n",
    "\n",
    "1. 自己实现了KNN算法和k折交叉验证，并使用留一法完成了手写字体识别任务。\n",
    "\n",
    "2. 将自己实现的KNN算法与sklearn库中的KNN分类器进行了对比，发现两者的准确率基本一致，但是本人实现的算法要远远快于sklearn库中的KNN分类器，证明本人实现算法的正确性和优越性。\n",
    "\n",
    "3. 使用旋转、平移、缩放的方法对原始数据进行增强，然后搭建了CNN网络，并通过训练集、测试集、验证集的分类效果说明了CNN算法在图像识别任务方面的优势。"
   ]
  }
 ],
 "metadata": {
  "kernelspec": {
   "display_name": "pytorch",
   "language": "python",
   "name": "python3"
  },
  "language_info": {
   "codemirror_mode": {
    "name": "ipython",
    "version": 3
   },
   "file_extension": ".py",
   "mimetype": "text/x-python",
   "name": "python",
   "nbconvert_exporter": "python",
   "pygments_lexer": "ipython3",
   "version": "3.9.12"
  },
  "orig_nbformat": 4
 },
 "nbformat": 4,
 "nbformat_minor": 2
}
